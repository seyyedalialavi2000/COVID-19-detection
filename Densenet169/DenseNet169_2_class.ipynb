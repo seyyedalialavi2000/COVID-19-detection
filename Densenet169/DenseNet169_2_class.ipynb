{
 "cells": [
  {
   "cell_type": "markdown",
   "metadata": {},
   "source": [
    "# Import libraries"
   ]
  },
  {
   "cell_type": "code",
   "execution_count": 1,
   "metadata": {},
   "outputs": [],
   "source": [
    "import numpy as np \n",
    "import matplotlib.pyplot as plt\n",
    "from glob import glob\n",
    "import cv2\n",
    "\n",
    "from keras.models import Model, Sequential\n",
    "from keras.layers import Dense, Flatten, Conv2D, MaxPooling2D\n",
    "from keras.layers.normalization import BatchNormalization\n",
    "import os\n",
    "import seaborn as sns\n",
    "from keras.applications import DenseNet169"
   ]
  },
  {
   "cell_type": "code",
   "execution_count": 2,
   "metadata": {},
   "outputs": [],
   "source": [
    "SIZE = [224,224]\n",
    "train_images = []\n",
    "train_labels  = []"
   ]
  },
  {
   "cell_type": "markdown",
   "metadata": {},
   "source": [
    "# Load Data"
   ]
  },
  {
   "cell_type": "code",
   "execution_count": 3,
   "metadata": {},
   "outputs": [],
   "source": [
    "for directory_path in glob(\"/dataset_address/*\"):\n",
    "    labels = directory_path.split(\"\\\\\")[-1]\n",
    "    for image_path in glob(os.path.join(directory_path,\"*.png\"))+ glob(os.path.join(directory_path,\"*.jp*g\")):\n",
    "        image = cv2.imread(image_path,cv2.IMREAD_COLOR)\n",
    "        image = cv2.resize(image,SIZE)\n",
    "        image = cv2.cvtColor(image,cv2.COLOR_RGB2BGR)\n",
    "        train_images.append(image)\n",
    "        train_labels.append(labels)"
   ]
  },
  {
   "cell_type": "code",
   "execution_count": 4,
   "metadata": {},
   "outputs": [],
   "source": [
    "images = np.array(train_images)\n",
    "labels = np.array(train_labels)"
   ]
  },
  {
   "cell_type": "markdown",
   "metadata": {},
   "source": [
    "# Label formating"
   ]
  },
  {
   "cell_type": "code",
   "execution_count": 5,
   "metadata": {},
   "outputs": [
    {
     "data": {
      "text/plain": [
       "(625,)"
      ]
     },
     "execution_count": 5,
     "metadata": {},
     "output_type": "execute_result"
    }
   ],
   "source": [
    "from sklearn.preprocessing import LabelEncoder\n",
    "label = LabelEncoder()\n",
    "labels = label.fit_transform(labels)\n",
    "labels.shape"
   ]
  },
  {
   "cell_type": "code",
   "execution_count": 6,
   "metadata": {},
   "outputs": [],
   "source": [
    "images = images/255.0"
   ]
  },
  {
   "cell_type": "markdown",
   "metadata": {},
   "source": [
    "# Build the model"
   ]
  },
  {
   "cell_type": "code",
   "execution_count": 7,
   "metadata": {},
   "outputs": [
    {
     "name": "stdout",
     "output_type": "stream",
     "text": [
      "Model: \"densenet169\"\n",
     
    
    }
   ],
   "source": [
    "DenseNet169 = DenseNet169(input_shape = SIZE + [3],weights='imagenet',include_top=False,pooling='avg')\n",
    "\n",
    "for layer in vgg.layers:\n",
    "    layer.trainable = False\n",
    ""
   ]
  },
  {
   "cell_type": "markdown",
   "metadata": {},
   "source": [
    "\n",
    "# Feature extraction"
   ]
  },
  {
   "cell_type": "code",
   "execution_count": 8,
   "metadata": {},
   "outputs": [],
   "source": [
    "features = DenseNet169.predict(images)\n",
    "features = features.reshape(features.shape[0],-1)"
   ]
  },
  {
   "cell_type": "markdown",
   "metadata": {},
   "source": [
    "# Feature selection(ANOVA)"
   ]
  },
  {
   "cell_type": "code",
   "execution_count": null,
   "metadata": {},
   "outputs": [],
   "source": [
    "from sklearn.feature_selection import f_classif\n",
    "from sklearn.feature_selection import mutual_info_classif\n",
    "from sklearn.feature_selection import SelectKBest\n",
    "from sklearn.feature_selection import f_classif\n",
    "\n",
    "def select_features(X_train, y_train, X_test,i):\n",
    "    # configure to select all features\n",
    "    fs = SelectKBest(score_func=f_classif, k=i)\n",
    "    # learn relationship from training data\n",
    "    fs.fit(X_train, y_train)\n",
    "    # transform train input data\n",
    "    X_train_fs = fs.transform(X_train)\n",
    "    # transform test input data\n",
    "    X_test_fs = fs.transform(X_test)\n",
    "    return X_train_fs, X_test_fs"
   ]
  },
  {
   "cell_type": "markdown",
   "metadata": {},
   "source": [
    "# Classification, Accuracy, Sensitivity, Specifity, precision, and f1-score for each fold and overlapped"
   ]
  },
  {
   "cell_type": "code",
   "execution_count": 9,
   "metadata": {},
   "outputs": [
    {
     "name": "stderr",
     "output_type": "stream",
     "text": [
      "C:\\Users\\Ali\\anaconda3\\lib\\site-packages\\xgboost\\sklearn.py:1146: UserWarning: The use of label encoder in XGBClassifier is deprecated and will be removed in a future release. To remove this warning, do the following: 1) Pass option use_label_encoder=False when constructing XGBClassifier object; and 2) Encode your labels (y) as integers starting with 0, i.e. 0, 1, 2, ..., [num_class - 1].\n",
      "  warnings.warn(label_encoder_deprecation_msg, UserWarning)\n"
     ]
    },
    {
     "name": "stdout",
     "output_type": "stream",
     "text": [
      "[16:50:12] WARNING: C:/Users/Administrator/workspace/xgboost-win64_release_1.4.0/src/learner.cc:1095: Starting in XGBoost 1.3.0, the default evaluation metric used with the objective 'binary:logistic' was changed from 'error' to 'logloss'. Explicitly set eval_metric if you'd like to restore the old behavior.\n",
      "\n",
      " confusion matrix fold 0\n",
      "[[ 18   1]\n",
      " [  0 106]]\n",
      "\n",
      "Accuracy score :  [0.992]\n",
      "\n",
      "confusion matrix : \n",
      " [[ 18   1]\n",
      " [  0 106]]\n",
      "\n",
      "f1 score :  0.9841390686461109\n",
      "\n",
      "precision score :  0.9953271028037383\n",
      "\n",
      "Specifity :  1.0\n",
      "\n",
      "Sensitivity :  0.9473684210526315\n",
      "\n",
      "============\n",
      "[16:50:12] WARNING: C:/Users/Administrator/workspace/xgboost-win64_release_1.4.0/src/learner.cc:1095: Starting in XGBoost 1.3.0, the default evaluation metric used with the objective 'binary:logistic' was changed from 'error' to 'logloss'. Explicitly set eval_metric if you'd like to restore the old behavior.\n"
     ]
    },
    {
     "name": "stderr",
     "output_type": "stream",
     "text": [
      "C:\\Users\\Ali\\anaconda3\\lib\\site-packages\\xgboost\\sklearn.py:1146: UserWarning: The use of label encoder in XGBClassifier is deprecated and will be removed in a future release. To remove this warning, do the following: 1) Pass option use_label_encoder=False when constructing XGBClassifier object; and 2) Encode your labels (y) as integers starting with 0, i.e. 0, 1, 2, ..., [num_class - 1].\n",
      "  warnings.warn(label_encoder_deprecation_msg, UserWarning)\n",
      "C:\\Users\\Ali\\anaconda3\\lib\\site-packages\\xgboost\\sklearn.py:1146: UserWarning: The use of label encoder in XGBClassifier is deprecated and will be removed in a future release. To remove this warning, do the following: 1) Pass option use_label_encoder=False when constructing XGBClassifier object; and 2) Encode your labels (y) as integers starting with 0, i.e. 0, 1, 2, ..., [num_class - 1].\n",
      "  warnings.warn(label_encoder_deprecation_msg, UserWarning)\n"
     ]
    },
    {
     "name": "stdout",
     "output_type": "stream",
     "text": [
      "\n",
      " confusion matrix fold 1\n",
      "[[ 19   2]\n",
      " [  0 104]]\n",
      "\n",
      "Accuracy score :  [0.992, 0.984]\n",
      "\n",
      "confusion matrix : \n",
      " [[ 19   2]\n",
      " [  0 104]]\n",
      "\n",
      "f1 score :  0.9702380952380953\n",
      "\n",
      "precision score :  0.9905660377358491\n",
      "\n",
      "Specifity :  1.0\n",
      "\n",
      "Sensitivity :  0.9047619047619048\n",
      "\n",
      "============\n",
      "[16:50:13] WARNING: C:/Users/Administrator/workspace/xgboost-win64_release_1.4.0/src/learner.cc:1095: Starting in XGBoost 1.3.0, the default evaluation metric used with the objective 'binary:logistic' was changed from 'error' to 'logloss'. Explicitly set eval_metric if you'd like to restore the old behavior.\n",
      "\n",
      " confusion matrix fold 2\n",
      "[[ 23   2]\n",
      " [  0 100]]\n",
      "\n",
      "Accuracy score :  [0.992, 0.984, 0.984]\n",
      "\n",
      "confusion matrix : \n",
      " [[ 23   2]\n",
      " [  0 100]]\n",
      "\n",
      "f1 score :  0.9742161716171617\n",
      "\n",
      "precision score :  0.9901960784313726\n",
      "\n",
      "Specifity :  1.0\n",
      "\n",
      "Sensitivity :  0.92\n",
      "\n",
      "============\n",
      "[16:50:13] WARNING: C:/Users/Administrator/workspace/xgboost-win64_release_1.4.0/src/learner.cc:1095: Starting in XGBoost 1.3.0, the default evaluation metric used with the objective 'binary:logistic' was changed from 'error' to 'logloss'. Explicitly set eval_metric if you'd like to restore the old behavior.\n"
     ]
    },
    {
     "name": "stderr",
     "output_type": "stream",
     "text": [
      "C:\\Users\\Ali\\anaconda3\\lib\\site-packages\\xgboost\\sklearn.py:1146: UserWarning: The use of label encoder in XGBClassifier is deprecated and will be removed in a future release. To remove this warning, do the following: 1) Pass option use_label_encoder=False when constructing XGBClassifier object; and 2) Encode your labels (y) as integers starting with 0, i.e. 0, 1, 2, ..., [num_class - 1].\n",
      "  warnings.warn(label_encoder_deprecation_msg, UserWarning)\n",
      "C:\\Users\\Ali\\anaconda3\\lib\\site-packages\\xgboost\\sklearn.py:1146: UserWarning: The use of label encoder in XGBClassifier is deprecated and will be removed in a future release. To remove this warning, do the following: 1) Pass option use_label_encoder=False when constructing XGBClassifier object; and 2) Encode your labels (y) as integers starting with 0, i.e. 0, 1, 2, ..., [num_class - 1].\n",
      "  warnings.warn(label_encoder_deprecation_msg, UserWarning)\n"
     ]
    },
    {
     "name": "stdout",
     "output_type": "stream",
     "text": [
      "\n",
      " confusion matrix fold 3\n",
      "[[32  1]\n",
      " [ 0 92]]\n",
      "\n",
      "Accuracy score :  [0.992, 0.984, 0.984, 0.992]\n",
      "\n",
      "confusion matrix : \n",
      " [[32  1]\n",
      " [ 0 92]]\n",
      "\n",
      "f1 score :  0.9896049896049897\n",
      "\n",
      "precision score :  0.9946236559139785\n",
      "\n",
      "Specifity :  1.0\n",
      "\n",
      "Sensitivity :  0.9696969696969697\n",
      "\n",
      "============\n",
      "[16:50:13] WARNING: C:/Users/Administrator/workspace/xgboost-win64_release_1.4.0/src/learner.cc:1095: Starting in XGBoost 1.3.0, the default evaluation metric used with the objective 'binary:logistic' was changed from 'error' to 'logloss'. Explicitly set eval_metric if you'd like to restore the old behavior.\n",
      "\n",
      " confusion matrix fold 4\n",
      "[[25  2]\n",
      " [ 0 98]]\n",
      "\n",
      "Accuracy score :  [0.992, 0.984, 0.984, 0.992, 0.984]\n",
      "\n",
      "confusion matrix : \n",
      " [[25  2]\n",
      " [ 0 98]]\n",
      "\n",
      "f1 score :  0.9757187257187256\n",
      "\n",
      "precision score :  0.99\n",
      "\n",
      "Specifity :  1.0\n",
      "\n",
      "Sensitivity :  0.9259259259259259\n",
      "\n",
      "============\n",
      "\n",
      "Accuracy score :  0.9872\n",
      "\n",
      "f1 score :  0.9787834101650167\n",
      "\n",
      "precision score :  0.9921425749769877\n",
      "\n",
      "Specifity :  1.0\n",
      "\n",
      "Sensitivity :  0.9335506442874864\n"
     ]
    }
   ],
   "source": [
    "from sklearn.metrics import f1_score\n",
    "import statistics\n",
    "from sklearn.metrics import confusion_matrix,accuracy_score\n",
    "from xgboost import XGBClassifier\n",
    "from sklearn.metrics import precision_score\n",
    "from sklearn.model_selection import train_test_split\n",
    "from sklearn.metrics import f1_score\n",
    "import statistics\n",
    "from sklearn.model_selection import KFold\n",
    "from sklearn.model_selection import cross_validate\n",
    "\n",
    "av = 0\n",
    "place=0\n",
    "\n",
    "cv = KFold(n_splits=5, shuffle=True)\n",
    "f = 0\n",
    "result = dict()\n",
    "result[\"Accuracy score\"] = []\n",
    "f1 = []\n",
    "pre_score = []\n",
    "sensitivity = []\n",
    "specivity = []\n",
    "for train_ix, test_ix in cv.split(features):\n",
    "    # get data\n",
    "    train_X, test_X = features[train_ix], features[test_ix]\n",
    "    train_y, test_y = labels[train_ix], labels[test_ix]\n",
    "    train_X,test_X = select_features(train_X,train_y,test_X,67)\n",
    "    # fit model\n",
    "    model = XGBClassifier()\n",
    "    model.fit(train_X, train_y)\n",
    "    # evaluate model\n",
    "    yhat = model.predict(test_X)\n",
    "    acc = accuracy_score(test_y, yhat)\n",
    "    print(f\"\\n confusion matrix fold {f}\")\n",
    "    f = f+1\n",
    "    print(confusion_matrix(test_y, yhat))\n",
    "    Y_test = test_y\n",
    "    Y_pred = yhat\n",
    "    result[\"Accuracy score\"].append(accuracy_score(Y_test, Y_pred))\n",
    "    result[\"confusion matrix\"] = confusion_matrix(Y_test, Y_pred)\n",
    "    result[\"f1 score\"] = f1_score(Y_test, Y_pred, average=\"macro\")\n",
    "    result[\"precision score\"] = precision_score(Y_test, Y_pred, average=\"macro\")\n",
    "    result[\"Sensitivity\"] = result[\"confusion matrix\"][0,0] / (result[\"confusion matrix\"][0,0] + result[\"confusion matrix\"][0,1])\n",
    "    result[\"Specifity\"] = result[\"confusion matrix\"][1,1] / (result[\"confusion matrix\"][1,0] + result[\"confusion matrix\"][1,1])\n",
    "    f1.append(f1_score(Y_test, Y_pred, average=\"macro\"))\n",
    "    pre_score.append(precision_score(Y_test, Y_pred, average=\"macro\"))\n",
    "    sensitivity.append(result[\"confusion matrix\"][0,0] / (result[\"confusion matrix\"][0,0] + result[\"confusion matrix\"][0,1]))\n",
    "    specivity.append(result[\"confusion matrix\"][1,1] / (result[\"confusion matrix\"][1,0] + result[\"confusion matrix\"][1,1]))\n",
    "    \n",
    "    \n",
    "    print(f\"\\nAccuracy score : \", result[\"Accuracy score\"])\n",
    "    print(f\"\\nconfusion matrix : \\n\", result[\"confusion matrix\"])\n",
    "    print(f\"\\nf1 score : \", result[\"f1 score\"])\n",
    "    print(f\"\\nprecision score : \", result[\"precision score\"])\n",
    "    print(f\"\\nSpecifity : \", result[\"Specifity\"])\n",
    "    print(f\"\\nSensitivity : \", result[\"Sensitivity\"])\n",
    "    print(f\"\\n============\")\n",
    "    \n",
    "print(f\"\\nAccuracy score : \", statistics.mean(result[\"Accuracy score\"]))    \n",
    "print(f\"\\nf1 score : \", statistics.mean(f1))\n",
    "print(f\"\\nprecision score : \", statistics.mean(pre_score))\n",
    "print(f\"\\nSpecifity : \", statistics.mean(specivity))\n",
    "print(f\"\\nSensitivity : \", statistics.mean(sensitivity))"
   ]
  },
  {
   "cell_type": "markdown",
   "metadata": {},
   "source": [
    "# Exporting Confusion Matrix for each fold and overlapped in SVG"
   ]
  },
  {
   "cell_type": "code",
   "execution_count": 88,
   "metadata": {},
   "outputs": [
    {
     "name": "stderr",
     "output_type": "stream",
     "text": [
      "C:\\Users\\Ali\\anaconda3\\lib\\site-packages\\xgboost\\sklearn.py:1146: UserWarning: The use of label encoder in XGBClassifier is deprecated and will be removed in a future release. To remove this warning, do the following: 1) Pass option use_label_encoder=False when constructing XGBClassifier object; and 2) Encode your labels (y) as integers starting with 0, i.e. 0, 1, 2, ..., [num_class - 1].\n",
      "  warnings.warn(label_encoder_deprecation_msg, UserWarning)\n"
     ]
    },
    {
     "name": "stdout",
     "output_type": "stream",
     "text": [
      "[17:55:04] WARNING: C:/Users/Administrator/workspace/xgboost-win64_release_1.4.0/src/learner.cc:1095: Starting in XGBoost 1.3.0, the default evaluation metric used with the objective 'binary:logistic' was changed from 'error' to 'logloss'. Explicitly set eval_metric if you'd like to restore the old behavior.\n"
     ]
    },
    {
     "data": {
      "image/png": "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\n",
      "text/plain": [
       "<Figure size 432x288 with 1 Axes>"
      ]
     },
     "metadata": {
      "needs_background": "light"
     },
     "output_type": "display_data"
    },
    {
     "name": "stdout",
     "output_type": "stream",
     "text": [
      "[17:55:04] WARNING: C:/Users/Administrator/workspace/xgboost-win64_release_1.4.0/src/learner.cc:1095: Starting in XGBoost 1.3.0, the default evaluation metric used with the objective 'binary:logistic' was changed from 'error' to 'logloss'. Explicitly set eval_metric if you'd like to restore the old behavior.\n"
     ]
    },
    {
     "name": "stderr",
     "output_type": "stream",
     "text": [
      "C:\\Users\\Ali\\anaconda3\\lib\\site-packages\\xgboost\\sklearn.py:1146: UserWarning: The use of label encoder in XGBClassifier is deprecated and will be removed in a future release. To remove this warning, do the following: 1) Pass option use_label_encoder=False when constructing XGBClassifier object; and 2) Encode your labels (y) as integers starting with 0, i.e. 0, 1, 2, ..., [num_class - 1].\n",
      "  warnings.warn(label_encoder_deprecation_msg, UserWarning)\n"
     ]
    },
    {
     "data": {
      "text/plain": [
       "<Figure size 432x288 with 0 Axes>"
      ]
     },
     "metadata": {},
     "output_type": "display_data"
    },
    {
     "data": {
      "image/png": "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\n",
      "text/plain": [
       "<Figure size 432x288 with 1 Axes>"
      ]
     },
     "metadata": {
      "needs_background": "light"
     },
     "output_type": "display_data"
    },
    {
     "name": "stdout",
     "output_type": "stream",
     "text": [
      "[17:55:05] WARNING: C:/Users/Administrator/workspace/xgboost-win64_release_1.4.0/src/learner.cc:1095: Starting in XGBoost 1.3.0, the default evaluation metric used with the objective 'binary:logistic' was changed from 'error' to 'logloss'. Explicitly set eval_metric if you'd like to restore the old behavior.\n"
     ]
    },
    {
     "name": "stderr",
     "output_type": "stream",
     "text": [
      "C:\\Users\\Ali\\anaconda3\\lib\\site-packages\\xgboost\\sklearn.py:1146: UserWarning: The use of label encoder in XGBClassifier is deprecated and will be removed in a future release. To remove this warning, do the following: 1) Pass option use_label_encoder=False when constructing XGBClassifier object; and 2) Encode your labels (y) as integers starting with 0, i.e. 0, 1, 2, ..., [num_class - 1].\n",
      "  warnings.warn(label_encoder_deprecation_msg, UserWarning)\n"
     ]
    },
    {
     "data": {
      "text/plain": [
       "<Figure size 432x288 with 0 Axes>"
      ]
     },
     "metadata": {},
     "output_type": "display_data"
    },
    {
     "data": {
      "image/png": "iVBORw0KGgoAAAANSUhEUgAAAW8AAAENCAYAAADAAORFAAAAOXRFWHRTb2Z0d2FyZQBNYXRwbG90bGliIHZlcnNpb24zLjMuMiwgaHR0cHM6Ly9tYXRwbG90bGliLm9yZy8vihELAAAACXBIWXMAAAsTAAALEwEAmpwYAAAkWklEQVR4nO3dd3gUVfvG8e8TCEVCqEmQjiDFhqKooCAq2CiKiCjoT3lVREFEX+UVC0WKotixYEVRwUoTVKwgAiKIdCkqoCgJYAhBST+/P3YT07ML2YQJ9+e6ciWZmTP7TFxvzp6ZOWPOOURExFvCSrsAEREJnsJbRMSDFN4iIh6k8BYR8SCFt4iIBym8RUQ8SOEtRwwza2xmzsyuD2Db6/3bNg59ZSLBU3jLYS1biOb3NfMwqK+Vmb1jZj+b2d9mFm9m35nZtWZmpV2flF3lS7sAkQCNATblWvZbaRSSSwOgOvAm8DtQEbgAeAM4ERhWapVJmabwFq+Y75xbVNpF5Oacmw/Mz7V4kpnNAYaY2QPOueRSKE3KOA2bSJlgZseb2Swz22tm/5jZUjPrFmDbM81ssZklmdl2M7sHONQhj234euGVD3E/IvlSz1u8opqZ1c61LN45l25mzYHFQCrwJLAPuB6YbWZ9nHPvFbRTMzsO+BxIBMYCKcAAYH8wxZnZUcBRQFXgXKA/8L1zbm8w+xEJlMJbvOKjfJa1An4CxgNVgNbOuXUAZvYSsAp40sxmOOfSCtjvGHw95DbOuU3+tq8Bm4Os70Hgv9l+/wK4Ich9iARM4S1ecQewNtey7WZWDrgImJcZ3ADOuUQzex54BGgDLMu9w1xtN2Vru8vM3gJuDaK+ycAnQBRwIVAfiAiivUhQFN7iFcvzO2FpZnXw9bp/yqfNev/3JuQT3viC9ihgYz7r8ltWIOfcZv7trU8zs/HAQjNr4ZzbHcy+RAKhE5ZSlmWedCxo0vrC1h/qCcvpQE2g5yHuRyRfCm/xul3A30DLfNZlLttaQNs44J8C2jY/xLoyrzKpcYj7EcmXwls8zTmXDnwMXGxmrTKXm1kEcAvwB/BDIW0/BS7xX7GS2TYK6BvI65tZdAGrBvq/fx/IfkSCpTFvKQvux3dX40Izm8S/lwo2AfoUcqUJwAh8JxgX+Num4rtUcBu+OyeLMtnMagILgO1ALaAH0B740Dn31cEckEhRFN7iec65jWbWHngIuBOogO8ywR7OufwuMczedq2ZdQEeAx7AN5TyHBALvBrAy0/Hd033jUBtIAlYBwzCdwWKSEiYHkAsIuI9GvMWEfEghbeIiAcpvEVEPEjhLSLiQSVytcn3vyborKgcllrVjSztEkQKFFGx4KcxqectIuJBCm8REQ9SeIuIeJDCW0TEgxTeIiIepPAWEfEghbeIiAcpvEVEPEjhLSLiQQpvEREPUniLiHiQwltExIMU3iIiHqTwFhHxIIW3iIgHKbxFRDxI4S0i4kEKbxERD1J4i4h4kMJbRMSDFN4iIh6k8BYR8SCFt4iIBym8RUQ8SOEtIuJBCm8REQ9SeIuIeJDCW0TEgxTeIiIepPAWEfEghbeIiAcpvEVEPEjhLSLiQQpvEREPUniLiHiQwltExIMU3iIiHqTwFhHxIIW3iIgHKbxFRDxI4S0i4kEKbxERD1J4i4h4kMJbRMSDypd2AWXdi4+P4cfvFhFZvQYPT54OwP7EBCaNv49dsX8SFXM0t907nipVIwGYPX0KX386m7CwMP7vlv9y0mnt8uwz2PapKSk8Pvou4nfHcX63K+jS/QoAXnlqPOd37UXjZi1K6K8hXjB6xL18s+Bratasxbsz5uRZv29fAqNH3Mfvv22nYsWKjBg9jmbHNgcgcd8+xoy6ny1bNmNmjHxwHCe1PoWnn5jIt4sW0qJFKx4cPwGAuXNmkZCQQN9r/q9Ej6+sUM87xDp26crdY5/KsWzOO69z3MlteezVDzju5LbMefd1AHZs+4WlC+YzYfJ0ho17iinPPkJGenqefQbbfvWKpTQ5tiXjn3+brz6eAcC2XzaRkZGh4JY8uvfoyTPPv1Tg+ldfmkyLFi1554PZjB43gYkTxmete3TCONqd1YEPZ3/M9Pdn0qRJUxITE1n140re+WA26RnpbN60kaSkJObMmkHvPleXxCGVSQrvEGt5Yhsi/L3iTCuWLKRD564AdOjcleWLF2QtP/OcCwivUIHoOvWIObo+P29cl2efwbYvX748KcnJOf4heP/1yVzxfzeH5JjF29qc1pZq1aoVuP6XX36m7Rm+T4RNmhzDH3/sYM+e3ezfv5+VK5Zz2eW+T3bh4RWoGhlJWJiRmpqKc47k5GTKh4fzxpRXuKrftYSHh5fIMZVFCu9SsG/vX9SoVRuAGrVqsy8hHoD4PbuoGRWTtV3N2tHE79l1yO1PaHM6CfF7GDm0P916X8uKJQtpcmxLatSKCtkxStnVvHkLvvpiPgBr16xm559/EBe7kx2//0aNmjUZ9cBw+l7ZkwdH3s+Bf/6hSpUIzu98AX2v7EndevWIiIhg/do1dDr3/FI+Em9TeB9GnHN5F5odcvty5coz6J6xjHv2TU7v0JlPZ07jkl79eHPyEzw19h5WLFl4CFXLkeb6Gwawb98+ru59Ge9Me5MWLVtRrlx50tPT+GnDeq648mrefncGlStX5rVXfcMv1/3nRqa9N5M777qH5yc9zcBBQ5jxwXv8766hvPzi86V8RN6k8C4FkdVrEr9nNwDxe3YTWa0G4Osp/7UrNmu7v3bHUaNm7WJt//lH73N2565s3rCG8uHh3DZ8HLOmvVq8ByhlWkREBKPGPMS092by4LgJxMf/Rd169YmOqUN0TAwnntQagM5dLuSnDetztM38vVGjxsydM4sJE5/k5y2b2b5ta0kfhucpvEtBmzM78s3ncwH45vO5nNquo395B5YumE9qSgpxO3ew84/faNri+GJr/3fiPn78bhEdOnclJTkJszAwIzUlJdSHLGVI4r59pKb63jMzPniPNm3aEhERQe3aUcTEHM3WX38BYNl3SzjmmKY52j7/7FPcMug20tLSyMjwnYMxM5KSkkr2IMoAy/ejdjH7/teE0L/IYWrSQ/ezYfUK9u/bS2SNWvS65iZObX8Oz4y/lz1xsdSKjmHIfQ8RUdV3gmjWtFdZMH8OYWHluHbgnbRu2x6Al54Yy/ldL+eY5seRuG9v0O0B3pz8OKe260Srk9qQkpLM46P8lw92vZwLLu1T8n+cw0CrupFFb3SEuXfYnSxf/j1798ZTq2Ytbr7VF7YAV1x5FatXrWTEffcQFhbGMU2bMWL0WCIjfe+/jT9tYMyo+0lNTaVe/QaMGjM+a91XX37O5o0/MeCWwQA8MXECSxYv4tjmLRj38MTSOdjDXETFgsdNFd5yRFN4y+GssPAO6CYdM2sK9AQaAGnAZmCacy6hWCoUEZGgFDnmbWZDgBeASkBboDK+EF9iZp0KaTfAzJab2fIZ06YUS7EiIuJT5LCJma0BTnbOpZvZUcA851wnM2sIzHLOnVLUi2jYRA5XGjaRw1lhwyaBXm2SObxSEagK4JzbDuj2qGKWkpzE2Ltv5tfNGxg19D/8b0Afhg/sy9IFn2Vt89LjY7j3lr4MH9iXp8beQ9KBfwBY+d03fDD1xdIqXY4wSUlJ3NT/GjasX8v11/Shd89u9OnVg/mfzMvaZviwO3UZYIgE0vO+HbgBWAp0BCY4514zsyjgA+dcx6JeRD3vwH02+z3SM9JpfVo7zIw69RoSv2cX9w/+Px556V2qRFTln7/3c1SVCADenPwEkdVr0qPPdTjnuH/wtYx47GUqVqpUykfiDep5H7x3p79FWlo6Z53dATOjYaPG7IqLpd9VV/DBzLlUjYxkxfJlzPtoDg+MGlPa5XrSIfW8nXNPAVcD84HLnHOv+ZfvCiS4JTiLv/qEU8/syNH1G1GnXkMAatSKolr1GiT6b4PPDG7nHKkpyVk3YZoZrU5qw8pl35RK7XJk+XjuHDqdex6NGjehYaPGAERFx1CzZk3i4/8C4JQ2p7Fs6eKsSw2l+AQ0bOKcW+ece98591P25WYWEZqyjkxpqanE7dxBVJ26OZb/vHEdaWlpRB9dP2vZ5MceZNDVF/PHb9u4oMe/12g3OfY4Nq79saRKliNUamoKO37/nbr16udYvnbNalJTU6nfwNfxCAsLo0HDRmze9FN+u5FDcKh3WK4vehMJVOK+vRxVpWqOZfF7dvP8IyMZcOcDhIX9+5/r5v+OYNJbc6nbsDFLF/47Hh5ZvQZ7/bfOi4TK3vh4IqrmfK/u2hXHiHuHMerB8TneqzVq1mRXXFxJl1jmFXmdt5ndWdAqQD3vYlShQsUct6r/8/d+Jo64g97XDaRZqxPzbB9WrhxnduzC3Pencs4F3QFITUkhvELFEqtZjkwVK1UiJSU56/f9+/dz+6CB3HLbUE5sfXKObVOSk3UOJgQC6XmPB2rgu8ok+1dEgO0lQFWqRpKRkU5KSjJpqak8OWYYHTpfwhkdO2dt45xj5x+/Zf288rtvqNugcdb6nTu2U79x09y7FilWkZHVyEjPIDk5mdTUFO4aOphu3S+lywUX5dl227atHNO0WSlUWbYFcoflD8BM59yK3CvM7MbiL+nIdmKbM9i0dhV74/ewcc1K9u9LYOFnHwFw839H0qBJMyZPHM2Bf/4G52h4zLFcP/h/We3Xr1pOn/6DSqt8OYKc2f4sfly5gj27d/PDD8tJSNjLnNm+JzWNGvMQLVq2Ys+e3VSqVImoqOhSrrbsCeRSwRbAHudcnoFUM4txzsXm0ywHXSoYuK1bNvLxh29zy7DRQbdNiN/DsxMe4N6HnwtBZWWTLhU8eD9tWM9bU6cwZvwjBW7z1tQpVKkSkfV0HQnOoV4quDF3cJtZHf+6IoNbgtO4WQuOa31qvs+uLMruuFj63TS0+IsSyUfLVsdxWtszSC/kvVq1alW69bis5Io6ghzUrIJm9oNzrk2g26vnLYcr9bzlcFYct8fnFvizuUREpNgdbHi/VKxViIhIUAK5zrtmPounZy53zv1V7FWJiEihArlUcAXg8A2VNATi/T9XB7YDTUJVnIiI5C+Qq02aOOeOAT4FujvnajvnagHdgA9DXaCIiOQVzJh3W+dc1kS9zrmPgXOKvyQRESlKQM+w9NttZvcDb+IbRrkG2BOSqkREpFDB9LyvBqKAGcBMINq/TERESljAPW//VSW3h7AWEREJUCCXCj7pnBtqZnPwDZfk4JzrEZLKRESkQIH0vKf6v08MZSEiIhK4IsM721SwNYF5zrnkwrYXEZHQC+aEZQ9gk5lNNbOuZhbMlSoiIlKMAg5v51x/oBnwHtAX+NnMXg5VYSIiUrCges/OuVQz+xjficvKwKWAnqYjIlLCAu55m9lFZjYF2AJcAbwMHB2iukREpBDB9LyvB6YDN+ukpYhI6QrmJp2rzCwG6GK+hzssc87FhawyEREpUDDDJr2BZUBv4ErgOzPTU0VFREpBMMMm9+ObWTAOwMyigM+B90NRmIiIFCyY67zDcg2T7AmyvYiIFJNget6fmNmnwDT/732AeYVsLyIiIRLIxFTNgBjn3N1mdjlwNr7HoC0B3gpxfSIiko9Ahj2eBBIBnHMfOufudM7dga/X/WToShMRkYIEEt6NnXOrcy90zi0HGhd7RSIiUqRAwrtSIesqF1chIiISuEDC+3szuyn3QjO7AViRz/YiIhJigVxtMhSYYWb9+DesTwMqAD1DVJeIiBQikIcxxALtzexc4AT/4rnOuS9DWpmIiBQomLlNvgK+CmEtIiISIN0hKSLiQQpvEREPUniLiHiQwltExIMU3iIiHqTwFhHxIIW3iIgHKbxFRDxI4S0i4kEKbxERD1J4i4h4kDnnQv4iSWmE/kVEDkKNtoNLuwSRAh1YOckKWqeet4iIBym8RUQ8SOEtIuJBCm8REQ9SeIuIeJDCW0TEgxTeIiIepPAWEfEghbeIiAcpvEVEPEjhLSLiQQpvEREPUniLiHiQwltExIMU3iIiHqTwFhHxIIW3iIgHKbxFRDxI4S0i4kEKbxERD1J4i4h4kMJbRMSDFN4iIh6k8BYR8SCFt4iIBym8RUQ8SOEtIuJBCm8REQ9SeIuIeJDCW0TEgxTeIiIepPAWEfEghbeIiAcpvEVEPEjhLSLiQQpvEREPUniLiHiQwltExIMU3iIiHqTwFhHxIIW3iIgHKbxFRDxI4S0i4kEK71L07TcL6dH1Qrpd1IVXXnoxz3rnHA+PH0u3i7pwRc/ubFi/rsi2Tzz2KFf07M59w4dlLZszeyZvTX09tAcjnjfo6k4sf+9eVrx/H4P7dgLgpOb1WPD6f1k6/R4WvTWM045vlG/bLu1bsWrGA6ydNZK7+nfJs37otedzYOUkalWvAkC71sew7J3hLHrzbo5pUBuAahGVmf3soNAcXBmk8C4l6enpjB/3IM+98DIzZs/lk3kf8fOWLTm2WfTNQrZv28qcj+czYtQYxj44qtC2iYmJrPpxJe/PmENGejqbN20kKSmJ2TNncOVVfUv+IMUzjmt6NP0vb0+Hax/l9D4PcXHHE2jaMIpxQy9j3Isfc+ZVDzPm+Y8YN/SyPG3Dwown77mSSwc/xym9xtL7olNpeUydrPX1Y6pz3pkt2f7nX1nLbr/2PK6++2VGPDOHAb07ADB8wEU88uqnIT/WskLhXUrWrllNgwaNqN+gAeEVKnDRJV35+qsvcmzz1Zdf0L3HZZgZJ7U+mcTEfezaFVdg27AwIzU1FeccScnJlC9fnimvvkzfa64lPDy8lI5UvKBlkzosW7OVA0mppKdn8M2KLVx6bmucg8gqlQBfz/jPXQl52rY9oTE//7abrTv2kJqWznuf/kC3TidlrX/krl7c99RMnHNZy1LT0qlcMZyjKoeTmpZOk/q1qRtdnUUrtuTZv+RP4V1K4mJjqXP0v72T6JgYYmNjc24TF0tMnX+3iYmpQ1xsbIFtq1SJoHOXC+jT6zLq1atPRNWqrFu7lnPP6xz6AxJPW/fzH5zdphk1q1WhcqVwLjr7eOrXqcHdE99n/NDL2PzxGB66oycjnpmVp23d6Gr8Hhuf9fuO2HjqRVUDoOs5J/JH3F7WbNqRo82jr87n2fuvZnDfc3lh+kJGD+7O6Oc+Cu1BljHlS7uAI5XD5VlmZrk2yn+bwtr2v+Em+t9wEwCjRtzHrbcN4cP332PJ4kUc27wFAwbeWgzVS1mz8ddYHpvyGR89P5i/DySzetMO0tLSGdC7A8Me+5CZX/xIry6n8PzIfnQdOClHW8Py7M8BlSuF878bLqTbrZPyrF+9aQfnXPcYAGe1acqfuxIwjKkP9yc1LZ17Hp9B3F+JITnWskI971ISE1OHnX/uzPo9LjaW6OjoHNtEx9Qhdue/28TG7iQqOjqgths2rAegUaPGzJk9k0cff4otWzazbdvWEByNlAWvz1xC+74T6HLDk8Qn/M2W7bvo1+0MZn7xIwAffLYy3xOWO+L2Uj+mRtbv9WJq8MeuBI6pH0WjerVY9s5wfpo7mnrR1Vny9v+IqVU1R/t7bryIh178mPtuvpgxL8xj2rzvufXqTqE81DJB4V1Kjj/hRLZv38rvv/9GakoKn8ybyznnnpdjm07nnsec2b6xwtWrfiQioipRUdEBtX32mae4dfAQ0tLSyEhPByDMwkg6kFRixyjeElUjAoAGdWpw6XmtefeT5fy5K4EOpx4LQKfTm7Nl+6487Zav20azhlE0qluL8PLl6H1hG+Z+vZp1W/6g0fnDadl1JC27jmRH3F7a9Z1A7J5/e9TXdD+DT75Zx97EAxxVqQIZGY6MDMdRlXSOpigaNikl5cuXZ/h9I7hlwI1kZKRzWc9eNGt2LO++Mw2AK/tcTYeO57Bo4QK6XdyFSpUq8+DY8YW2zfTlF59zwgknEh0dA8BJJ59Cr8u607x5c1q0bFnyByueMG3ijdSsXoXUtHSGPvwuexMPMGjM2zx69xWULx9GcnIag8f63p9HR1XjuRF96Xnb86SnZ3DHhHeZ89wgyoUZr89ayoZfdhbxar5hlWu6n5E1rPL0m18ybeKNpKSmcd3wKaE81DLBXD7jqsUtKS2fQVqRw0CNtoNLuwSRAh1YOSnvCQW/gxo2MbMwM4s8+JJERORQBBzeZva2mUWaWRVgPbDRzO4OXWkiIlKQYHrexznn9gGXAfOAhsC1BW1sZgPMbLmZLc/v1m8RETl4wZywDDezcHzhPck5l2pmBY5lO+deBF4EjXmLiBS3YHrek4GtQBVgoZk1AvaFoij5V1JSEv+57hrS09OZPXMG3S++gO4XX8DsmTOythl21x26fltCplLFcOa/fDthYcasSbfy58JH+OCpgTm2aVS3FgvfuIs1s0Yw9eH+hJcvl7XusWFXsHbWSJa9M5yTW9YHILx8OT57ZSjlyulq5YMV8F/OOfe0c66ec+4S57MNODeEtQkw88MPOL9zF/YnJvLC85N4c9q7vDX9PV54fhL7EnzzTFzZ52qmvPJyKVcqZdV1l7Zj1heryMhwPPHG59xw/xt5thl3+6U889ZXnHjpg8QnHuD6nu0AuPDs42jaMIoTLh3N4LHTePreqwDf3CZffbeR3he0KdFjKUuCOWF5Z+4v4DozOzl05cm8uXPodN75LP52EWe2O4tq1asTWa0aZ7Y7i28XfQNAm1NPY+nSxaSlpZVytVIWXXXJacz5ejUAXy/bROLfyXm2Oadtcz78fCUAb835ju6dWgPQ7ZyTePujZQAsW7OValUrU6e270K1OV+vps8lbUviEMqkYD6znAYMBOr5vwYAnYCXzGxYIe3kIKWmpPD7b79Rr1594uJiqZNjkqoY4uJ8E1mFhYXRsGEjNm38qbRKlTIqvHw5GternWM619xqVa9CQuIB0tMzAN/EVHWjfRNT1Y2uzu87s09atZe60dUBWLflD049vmHoii/jggnvWkAb59x/nXP/xRfmUUBH4PoQ1HbEi98bT9VI3zwQ+d5MlW0iq5o1axIXF1dSpckRonaNCBIS/yl0mzwTqvHvnGr5rMp6L2dkOFJT04k4quIh13kkCia8GwIp2X5PBRo55w4AeT9HySGrVLESKcm+P3lMTB125pikKpboqH8no0pOTqFSpUolXqOUbQeSUqhUsfB5RnbH76da1cpZJx/rxdTImvd7R+xe6tfJPmlV9RxzglcIL09SSmoIKi/7ggnvt4GlZjbSzEYC3wLTst20I8Usslo10jPSSU5Opv1ZZ7Nk8SL2JSSwLyGBJYsX0f6ss7O23bZtK02bNSvFaqUs2pt4gHJhYVSsUPhVxQuXb+LyzqcA0K/7GXzkHyOfu2ANfbudDsDpJzZm3/4D7Nztu0itZrUq7I7fT1paRgiPoOwK+Dpv59wYM/sYOAswYKBzbrl/db9QFCfQrv1ZrPxhBWe2a8+AgbfSt88VANx8yyCqVa8OwJ7du6lYsSJRUdGF7Enk4Hy+dAPtT2nKV99t5PNXhtK8SQwRlSuy5ZMxDBz9Np8v2cB9T81i6sP9GXlrN1Zt/I0pM5cA8MmidVx49vGsmz2Sf5JSuXnUm1n7PaftsXz67bqCXlaKENTEVGZWDoghW+g757YX1U436Ry8DRvWM/X11xj/8KMFbjP19SlUiajC5b16l2BlZYMmpipa6xb1GXLNedzwQN5LBA/F9Ik38sAzs9m8TedqClLYxFQB97zN7DZgJBALpOPrfTvgpMLayaFp1eo42p5+Bunp6ZQrVy7fbapGVqVb90tLuDI5Uqza+DsLlm8iLMzIyCieflh4+XLM/nq1gvsQBNzzNrMtwBnOuT3Bvoh63nK4Us9bDmfFNSXsb0DeR0eLiEiJC2Ziql+Ar81sLtkuDXTOPV7sVYmISKGCCe/t/q8K/i8RESklwVwqODqUhYiISOCKDG8ze9I5N9TM5kDeE4/OuR4hqUxERAoUSM97qv/7xFAWIiIigSsyvJ1zK/zfF4S+HBERCUQgwyZryGe4JJNzTjfpiIiUsECGTbr5vw/yf88cRukHFD5XpIiIhEQgwybbAMzsLOfcWdlW3WNm3wIPhqo4ERHJXzB3WFYxs6w5SM2sPb6HEYuISAkL5iadG4BXzaya//e9wH+KvSIRESlSMDfprABam1kkvgmtNM+JiEgpCWZK2IpAL6AxUD7zuXXOOY15i4iUsGCGTWbhm1VwBXpmpYhIqQomvOs75y4KWSUiIhKwYK42WWxmJ4asEhERCVgwPe+zgevN7Fd8wyYGON1hKSJS8oIJ74tDVoWIiAQlkLlNIp1z+4DEEqhHREQCEEjP+21885uswDdBVfYHYjrgmBDUJSIihQgkvB/2f2/lnEsKZTEiIhKYQK42ecr/fXEoCxERkcAF0vNONbPXgPpm9nTulc65IcVfloiIFCbQ+bw7A+fhG/cWEZFSFsh83ruB6Wa2wTm3qqDtzGy4c+6hYq1ORETyFfAdloUFt1/vQ6xFREQCFMzt8UWxojcREZHiUJzhXeBDikVEpHip5y0i4kHFGd7vFeO+RESkEAGHt5nVN7MZZrbLzGLN7AMzq5+53jk3PjQliohIbsH0vF8DZgNHA/WAOf5lIiJSwoIJ7yjn3GvOuTT/1xQgKkR1iYhIIYIJ791mdo2ZlfN/XQPsCVVhIiJSsGDC+z/AlcBO4E/gCv8yEREpYQE/Scc5tx3oEcJaREQkQIE8SWdEIaudc25MMdYjIiIBCKTn/Xc+y6oANwC1AIW3iEgJC2RWwccyfzazqsDtQH9gOvBYQe1ERCR0AhrzNrOawJ1AP+B1oI1zLj6UhYmISMHMucLnkzKzR4HLgReBZ51z+0uiMCmYmQ1wzr1Y2nWI5Kb3ZskJJLwzgGQgjZwzBxq+E5aRoStP8mNmy51zp5V2HSK56b1ZcgIZ8y7OyatERKQYKJhFRDxI4e1NGlOUw5XemyWkyDFvERE5/KjnLSLiQQpvEREPUniHmJnVMbPpZvazma03s3lm1jzIfZxmZk8XsG6rmdXOZ3lLM1tiZslmdleudbeb2VozW2dmQ4M6IBE5LCi8Q8jMDJgBfO2ca+qcOw64F4gJZj/OueXOuSFBvvxfwBBgYq6aTgBuAk4HWgPdzOzYIPctHmFmzsyyT3Fxl5mNOoj9RJnZd2a20sw6+Dsh1YNo39jM1vp/LrAzIoFTeIfWuUCqc+6FzAXOuR+BRWb2qL/3u8bM+gCY2TtmdknmtmY2xcx6mVknM/vIv6yWmc33/080Gd/NUnk45+Kcc98DqblWtQKWOuf+cc6lAQuAnsV4zHJ4SQYuz+/TWZDOB35yzp3inPvGOXeJc27vwezoIDsjkovCO7ROAFbks/xy4GR8Pd/OwKNmdjS+yb4yg7wCvv9h5uVqOxJY5Jw7Bd8zRRsGWdNaoKP/H4GjgEuABkHuQ7wjDd/le3fkXmFmjczsCzNb7f+e73vJzE4GHgEuMbMfzaxy5nCdv0e9wcxe8g/DzTezyv52p5rZKjNbAgzKtr/snZFRZvaqmX1tZr+Y2ZBs2z1gZj+Z2WdmNi1z+M/MhviHIFeb2fTi+1N5i8K7dJwNTHPOpTvnYvH1ftsCHwPnmVlF4GJgoXPuQK62HYE3AZxzc4GgJghzzm0AJgCfAZ8Aq/D9Dy5l17NAPzOrlmv5JOAN59xJwFtAvkMZ/k+LI4B3nHMn5/OePBbfvEfHA3uBXv7lrwFDnHPtiqivJXAhvqG8kWYWbman+fdzCr7OTvZb7u8BTvHXPbCIfZdZCu/QWgecms/ygoY6koCv8b2R++Driee7aZ4dmg3y94p+NLO6hRXlnHvFOdfGOdcR39j45sK2F29zzu0D3sB3DiS7dsDb/p+n4utUHIxf/QEPvk+ajf3/UFR3zi3Itv+CzHXOJTvndgNx+M4JnQ3Mcs4dcM4lAnOybb8aeMv/HN0jtuOh8A6tL4GKZnZT5gIza4uvt9zH/yDnKHy96WX+Tabjmy+9A/BpPvtciG9qXszsYqAGgHPuWX+v6GTn3B+FFWVm0f7vDfH1aqYd/CGKRzyJ7wEqVQrZ5mDv2EvO9nM6vjmTLIj9FdS+IF3xfZo4FVhhZgE/zrEsUXiHkPPdvtoT6OK/VHAdMApfb2c1viGLL4Fhzrmd/mbz8YX55865lHx2OxrfmPUPwAXA9vxe23+J4u/45mG/38x+N7PMGSA/MLP1+HozgzQ3e9nnnPsLeBdfgGdaDFzl/7kfsKgYX28vkGBmmb35fkHuYhHQ3cwqmVkEvsDGzMKABs65r4BhQHUgoliK9pgj8l+skuTvBV+Zz6q7/V+5t0/F93i57Mu+xjecgnNuD77QzpTnRJR/u51A/QLWdSi6cimDHgMGZ/t9CPCqmd0N7ML3ia849ffv/x/y/xRZIOfc92Y2G18HZxuwHEgAygFv+odlDHjiYK968TrNbSIihyUzi3DO7fdfFbUQGOCc+6G06zpcqOctIoerF83sOKAS8LqCOyf1vEUki5ndB/TOtfg959y40qhHCqbwFhHxIF1tIiLiQQpvEREPUniLiHiQwltExIP+H63u6ebxLI1XAAAAAElFTkSuQmCC\n",
      "text/plain": [
       "<Figure size 432x288 with 1 Axes>"
      ]
     },
     "metadata": {
      "needs_background": "light"
     },
     "output_type": "display_data"
    },
    {
     "name": "stdout",
     "output_type": "stream",
     "text": [
      "[17:55:05] WARNING: C:/Users/Administrator/workspace/xgboost-win64_release_1.4.0/src/learner.cc:1095: Starting in XGBoost 1.3.0, the default evaluation metric used with the objective 'binary:logistic' was changed from 'error' to 'logloss'. Explicitly set eval_metric if you'd like to restore the old behavior.\n"
     ]
    },
    {
     "name": "stderr",
     "output_type": "stream",
     "text": [
      "C:\\Users\\Ali\\anaconda3\\lib\\site-packages\\xgboost\\sklearn.py:1146: UserWarning: The use of label encoder in XGBClassifier is deprecated and will be removed in a future release. To remove this warning, do the following: 1) Pass option use_label_encoder=False when constructing XGBClassifier object; and 2) Encode your labels (y) as integers starting with 0, i.e. 0, 1, 2, ..., [num_class - 1].\n",
      "  warnings.warn(label_encoder_deprecation_msg, UserWarning)\n"
     ]
    },
    {
     "data": {
      "text/plain": [
       "<Figure size 432x288 with 0 Axes>"
      ]
     },
     "metadata": {},
     "output_type": "display_data"
    },
    {
     "data": {
      "image/png": "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\n",
      "text/plain": [
       "<Figure size 432x288 with 1 Axes>"
      ]
     },
     "metadata": {
      "needs_background": "light"
     },
     "output_type": "display_data"
    },
    {
     "name": "stdout",
     "output_type": "stream",
     "text": [
      "[17:55:05] WARNING: C:/Users/Administrator/workspace/xgboost-win64_release_1.4.0/src/learner.cc:1095: Starting in XGBoost 1.3.0, the default evaluation metric used with the objective 'binary:logistic' was changed from 'error' to 'logloss'. Explicitly set eval_metric if you'd like to restore the old behavior.\n"
     ]
    },
    {
     "name": "stderr",
     "output_type": "stream",
     "text": [
      "C:\\Users\\Ali\\anaconda3\\lib\\site-packages\\xgboost\\sklearn.py:1146: UserWarning: The use of label encoder in XGBClassifier is deprecated and will be removed in a future release. To remove this warning, do the following: 1) Pass option use_label_encoder=False when constructing XGBClassifier object; and 2) Encode your labels (y) as integers starting with 0, i.e. 0, 1, 2, ..., [num_class - 1].\n",
      "  warnings.warn(label_encoder_deprecation_msg, UserWarning)\n"
     ]
    },
    {
     "data": {
      "text/plain": [
       "<Figure size 432x288 with 0 Axes>"
      ]
     },
     "metadata": {},
     "output_type": "display_data"
    },
    {
     "data": {
      "image/png": "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\n",
      "text/plain": [
       "<Figure size 432x288 with 1 Axes>"
      ]
     },
     "metadata": {
      "needs_background": "light"
     },
     "output_type": "display_data"
    },
    {
     "data": {
      "text/plain": [
       "<Figure size 432x288 with 0 Axes>"
      ]
     },
     "metadata": {},
     "output_type": "display_data"
    },
    {
     "data": {
      "image/png": "iVBORw0KGgoAAAANSUhEUgAAAW8AAAENCAYAAADAAORFAAAAOXRFWHRTb2Z0d2FyZQBNYXRwbG90bGliIHZlcnNpb24zLjMuMiwgaHR0cHM6Ly9tYXRwbG90bGliLm9yZy8vihELAAAACXBIWXMAAAsTAAALEwEAmpwYAAAmkElEQVR4nO3deZzNZf/H8ddnFsa+NShEkSQhW4RI2iwViYruOy1alLr7xZ02KpXWu0XLrY1KtNpCaUNClgpJpEJ1Z9+mMvv1++P7nWnMes6YM+M73s/H4zzOnOt7Xdf5XB7jM9e5vt/vdcw5h4iIBEtUSQcgIiLhU/IWEQkgJW8RkQBS8hYRCSAlbxGRAFLyFhEJICVvKfXMbLSZlaprYkvjmCQ8St5SJMzsSDN7wsx+MLNEM9tlZp+YWf+Sjk2kNIop6QAk+MysLTAHKAe8AnwDVAH6A2+aWQ9gsNMdYSJFRslbDoqZVQHe81+2c86tyXLsceBpYCiwCni8mGOr4Jz7szjfU6S4aNlEDtYQoC4wImviBvBn2rcAPwG3m1kcgJmtNrNluXXmL7VsMjPLUnaRmS0xs7/MbJ+ZzTKzk7K1m2BmqWZWz8zeM7M9wMK8gjaz88xshpn9amZJ/vNzZlY1W73RZubMrJmZTTSz3X4Mk82sZra688xsg5mdaGafmdmfZva7md1vZjkmSqGMy6/X08xW+stR683syrzGJYcPJW85WOcDScAbuR10ziUDk4AaQEe/eDLQxsyOy1rXzGoDXYApGUssZnYr8BbwP2A4cD9wIvCFmTXO9nYGfAgkA7cBL+QT9xVAGjAOuAGYDgwG3s+j/ut4f6Tuwlsa6gfMNbMy2epVAj7C+4M1HFgC3I73CSTrWEMal5l182Mr57/3a8ADwAX5jE0OB845PfQo9APYBawsoE5fwAE3+q+P8V/fla3eML+8hf+6HpAC3J+tXi3/fSdlKZvgt30ql/cfjf9BIEtZ+VzqDfL76Ji9LfApEJ2l/Gq//JosZfP8snuy9TsJSAeaFGJcK4CdQI0sZScAqdnHpMfh9dDMWw5WZWBfAXUyjlcGcM79jDcjvThbvUuAtc65lf7rC/HOy0w2syMyHngz5sVAt1ze69lQgnbO/QVgnsp+v1/4h1vn0uRp51xaltcTgD1Ar1zqPpnt9RN4nwp6+q9DGpf/SaQV8LpzbmeW2NfifcKQw5hOWMrB2oeflPORcTwhS9kbwFNm1tw5t8rMGgDt8ZYGMmQsH6zOo9/0XMp+KiAWAMysCfAQ0B0on+1w1VyarMv6wjmXYmY/Aw2y1dvunNuVR9uMuqGOK6P+ulzqrAN65NFeDgNK3nKw1gKtzSzOOZeYR50W/nPWE5pvAf/Bm22v4u9Z+OQsdTI+GfbCW1cvSJrz1tjzZWaVgflAInA38APwFxANfEDu54Jyu8zRcikL5XLIUMeV0X+o7y2HESVvOVgzgFPxkvAr2Q+aWSwwEG/ddlFGuXNuq5l9ipe0R/rtlzrnfszSfIP//ItzblURxnw6UBPo6pybnyXW7CdAs2qC94cqo24s3sw4+xUtNc2serbZ9/H+80b/OdRx/ZzlvbPLL1Y5DGjNWw7Wf/GumHjIX4rI5F/u9yjQEHjQObc/W9s3gAZmNhhoTs4rVt7FOzF3j5nl+F01s/hCxpyxLJG9z+H5tLnRzKKzvL4cb3llVi51b8r2+mb/ebb/HNK4nHNbgK+BQWZWI8vxE4Cz84lVDgOaectBcc7tMbO+eHdYrjCzlznwDstTgInkfoPOe8BzeCf40vGWUrL2/bOZjfDbLjWzd/Fm8EcD5wDf4iXRcH0B7ABeNbOn8ZZMeuHNxvNSHe/SwKlAI7wbj74l56eNbcDVZlYX70qR7kAfYLx/ojHccf0bbylnsZmNx7tk8Aa/TsZylByOSvpyFz1KxwM4CngKb0kgEe9KjE+B/gW0exdvTffjfOr09Pvah5doN+Bd7dE+S50JQGoe7UeT81LBNnjr3gl4ifN1vOTtgNHZ2wLNgFeB3X6bN4Ha2fqc58fWDPjMj3UL8CAQW5hx+fV6450XSALWA1fmNiY9Dq+HOaftJkTyYmajgVFAPefcrwXUnQfUdc41KobQ5DCnNW8RkQBS8hYRCSAlbxGRANKat4hIABXLpYLLftqrvxBySGpat6A7+0VKToUyluedtFo2EREJICVvEZEAUvIWEQkgJW8RkQBS8hYRCSAlbxGRAFLyFhEJICVvEZEAUvIWEQkgJW8RkQBS8hYRCSAlbxGRAFLyFhEJICVvEZEAUvIWEQkgJW8RkQBS8hYRCSAlbxGRAFLyFhEJICVvEZEAUvIWEQkgJW8RkQBS8hYRCSAlbxGRAFLyFhEJICVvEZEAUvIWEQkgJW8RkQBS8hYRCSAlbxGRAFLyFhEJICVvEZEAUvIWEQkgJW8RkQBS8hYRCSAlbxGRAFLyFhEJICVvEZEAUvIWEQkgJW8RkQBS8hYRCSAlbxGRAFLyFhEJICVvEZEAiinpAEq78Y/fxzdLF1K5ajXGPj8FgD8S9jLuwTvYvvV34msdyY0jH6BCpcoAzHhzAvM+nEFUVBT/uO7/aN66Q44+w22fkpzM4/feyu4d2zijVz/O7NUPgJeefIAzel5Ig0bHF9O/hgTB6Ltu5/MF86hevQZvT52Z4/jyZV9yy7ChHFWnLgDdzjiTIdcNZePPP3Hb8Fsy6/326y9cO3QYAy/7J08+/ihfLFzA8U1O4L4HHgLg/ZnT2bd3L5cO+kfxDKyU0cw7wk47syfDxzx5QNnMtybStGVbHnvpXZq2bMvMtyYC8Numn1gyfy4PPT+FEWOeZMK4h0lPS8vRZ7jtV321hGMaNeGBZ9/gszlTAdj003rSXboSt+TQ+/w+jHvuhXzrtGzVminvTGPKO9MYct1QABocc2xm2aQ33yUurhynn9GdhIQEVq78mrfem0F6Who/rF9HYmIiM6dP5aIBlxTHkEolJe8Ia3JSKyr6s+IMKxYvoHP3ngB07t6T5Yvne+VLFtC+y1nElilDzdp1qHVUXX5cvyZHn+G2j4mOITk56YA/BO+8+l/6XXZNRMYswda6TVuqVKlyUH0s/XIxdevV46ij6hAVZaSmpOCcIzEpiZiYWF595SUuufQyYmNjiyjqw4+SdwnYt2cX1aofAUC16kewb+9uAHbv3E71+FqZ9aofUZPdO7YfdPtmrdqxd/dORt08mF79LmPFkgUcc1wTqtWIj9gYpXRbvfIbBlx4PjdcezU/bvghx/EP58zm7HO9CUaFChXp1v0sLrmoD3Xq1KFipYqsWbOart3OKO6wSxWteR9CnHM5C80Oun10dAxD/z0GgNTUVB6+80ZuGfUYr4//Dzu3baVT9x60bn9aYcOWw0yTE05k1txPKV++AgsXzOeWm25g+qwPM4+npCSzYN6n3HjT3+vfl19xFZdfcRUA9466k+uGDmPqu2+zZNEXHNf4eK665rpiH0fQaeZdAipXrc7uXTsA2L1rB5WrVAO8mfKu7Vsz6+3asY1qNY4o0vYfv/8Onc7oyQ9rVxMTE8uNI+9n+uSXi3aAUqpVrFiR8uUrANDptC6kpqawe/fuzONffP45TU5oSo0jcv7ufr/2OwDq12/A+zOm89BjT7Bhww9s3rSxWGIvTZS8S0Cr9qfx+cezAPj841m07nCaX96ZJfPnkpKczLYtv7Hlf7/QsPGJRdb+z4R9fLN0IZ279yQ5KRGLigIzUpKTIz1kKUV27Nie+Snv29WrcOmOqlWrZh7/YM6szCWT7J4d9yTXDb2R1NRU0tO9czBRZiQmJkY87tJGyyYRNm7snaxdtYI/9u3hxkG9uPCyq+nd/x88/cDtzP9wBjXiazHsjgcBqFu/Iad07s6/rxlAVHQ0l18/gqjoaABeeGIMZ/Toy7GNmxaqPcDUN17k/IuvwMw4qXV7Ppr5DiOvu4QzevQt/n8YOWSNHHELK5YtY8+e3ZxzRheu9ZMtQL/+F/Px3A95560pREdHUzYujgcfeQzzl/f279/Pl4u/4I6778nR72effMyJzU4ivqZ3XqZ5i5b079Ob4xofT+PjmxTfAEsJy3WdtIgt+2lv5N9EpBCa1q1ccCWRElKhTN4nvUKaeZtZQ6APUA9IBX4AJjvn9hZJhCIiEpYC17zNbBjwPBAHtAXK4SXxxWbWNZ92Q8xsuZktnzp5QpEEKyIingKXTcxsNdDSOZdmZuWB2c65rmZ2NDDdOXdyQW+iZRM5VGnZRA5l+S2bhHq1ScbySlmgEoBzbjOg26OKQHJSImOGX0N6WhoP3TmMIf268eiofx1QZ+6Mt7jlir4MOrcdCXv3ZJa//85r3D50ILcPHcht117MZT3b80fCXlJTUrhv+BDS0lKLeTRyuEhMTOSqyweRlpbGE48/Qr8LetH3vB48/OCYzKtRbht+iy4DjJBQkveLwDIzGw8sBsYBmFk8sCuCsR025s+dSZuOpxMVHU3PCwdx7a05z9Q3btqCkQ+O44iaRx5Q3qvfZTzwzCQeeGYS/S8fygknnUzFSlWIiY3lxJZtWTL/4+Iahhxmpk99l27dz+Lb1StZ+fVXvPnudN6eOpM1365mxfKlAFzU/2ImvvJSCUdaOhWYvJ1zTwKXAHOBC5xzr/jl251zui2vCCz67IPMa7WbndyOuPLlc9Rp0Oh44msdlW8/i+d/SIcuZ2e+bt2hC4s++6BogxXxzZk1k66ndwOMpKQkUlJSSE5OJjU1ler+zWEnt27Dl0sWZV5qKEUnpGUT59wa59w7zrnvs5abWcXIhHX4SE1JYduW3wpMzAVJSkxk1fIltO10emZZvfoN+Wn9dwcbokgOKSnJ/PbrrxxVpy4tWp5M23ancFa3zpzdrTMdOnbi2GMbAhAVFUW9evVZv+77AnqUcB3sHZbKDAcpYd8eyleodND9fP3l5zRu2pyKlf7eDS4qOpqY2Fj2//XnQfcvktWe3bupVMn7vd28eRM///QTH3w8jw8+mc+yL5ewYvmyzLrVq1dn+/ZtJRVqqVXgdd5mdktehwDNvA9SmTJli+T29MXz59Kh61k5ylNSkoktU/ag+xfJqmzZOJKSkwDvzsmTmrfI3O+kY6fTWL1qJa3btAUgKTmJuLJxJRZraRXKzPsBoBreVSZZHxVDbC/5qFCpMunpaST7/xEK468//+D71V/TqkOXA8oT9u2hcpVqxMRoFwQpWpWrVCE9LZ2kpCRqH3kkK5YvIzU1lZSUFFasWMYxxx6bWXfzxo0c26hRCUZbOoXyv/orYJpzbkX2A2Z2VdGHdPg5qdUprF+zkmYnt+PeW6/m9182kZi4nxsH9eLqf91B89Yd+HD6m7z/9mvs3b2TkddfSou2p3L1zXcCsHzRPE5qdQpxceUO6HftyhW0aHtqSQxJDgPtT+3IN1+toPuZZ7PsyyX073seZsapHTvRpWs3AHbu2EHZuDji42uWcLSlTyg36RwP7HTO7cjlWC3n3NZcmh1AN+nkb+OGdcyZ+gbXDc95ieDBeOK+EfQfPJSj6tYv0n5LE92kU3jfr/2O11+dwJgHH86zzuuvTqBixYpc0LdfMUZWehzUTTrOuXXZE7eZ1faPFZi4pWANGh1P0+atc/2+ysJKTUmhdYcuStwSMU1OaEqbdqeQls/vbaVKleh13gXFF9RhpFC7CprZV865VqHW18xbDlWaecuhrChuj88u9O/mEhGRIlfY5P1CkUYhIiJhCeU67+q5FE/JKHfOaX8TEZFiFsqlgisAh7dUcjSw2/+5KrAZOCZSwYmISO5CudrkGOfcscCHQG/n3BHOuRpAL+C9SAcoIiI5hbPm3dY5NzvjhXNuDtAln/oiIhIh4dw3vcPM7gRex1tGGQTsjEhUIiKSr3Bm3pcA8cBUYBpQ0y8TEZFiFvLM27+q5KYIxiIiIiEK5VLBJ5xzN5vZTLzlkgM4586LSGQiIpKnUGber/nPj0YyEBERCV2ByTvLVrDVgdnOucJvPC0iIkUinBOW5wHrzew1M+tpZtrhX0SkhIScvJ1zg4FGwNvApcCPZvZipAITEZG8hTV7ds6lmNkcvBOX5YDzAX2bjohIMQt55m1m55jZBGAD0A94ETgyQnGJiEg+wpl5Xw5MAa7RSUsRkZIVzk06F5tZLeBM877cYalzblvEIhMRkTyFs2xyEbAUuAjoD3xpZvpWURGREhDOssmdeDsLbgMws3jgY+CdSAQmIiJ5C+c676hsyyQ7w2wvIiJFJJyZ9wdm9iEw2X89AJidT30REYmQUDamagTUcs4NN7O+QCe8r0FbDEyKcHwiIpKLUJY9ngASAJxz7znnbnHO/Qtv1v1E5EITEZG8hJK8GzjnVmUvdM4tBxoUeUQiIlKgUJJ3XD7HyhVVICIiErpQkvcyM7s6e6GZXQmsyKW+iIhEWChXm9wMTDWzgfydrNsAZYA+EYpLRETyEcqXMWwFTjWz04FmfvEs59ynEY1MRETyFM7eJp8Bn0UwFhERCZHukBQRCSAlbxGRAFLyFhEJICVvEZEAUvIWEQkgJW8RkQBS8hYRCSAlbxGRAFLyFhEJICVvEZEAUvIWEQkgc85F/E0SU4n8m4gUQrW2N5R0CCJ52v/1OMvrmGbeIiIBpOQtIhJASt4iIgGk5C0iEkBK3iIiAaTkLSISQEreIiIBpOQtIhJASt4iIgGk5C0iEkBK3iIiAaTkLSISQEreIiIBpOQtIhJASt4iIgGk5C0iEkBK3iIiAaTkLSISQEreIiIBpOQtIhJASt4iIgGk5C0iEkBK3iIiAaTkLSISQEreIiIBpOQtIhJASt4iIgGk5C0iEkBK3iIiAaTkLSISQEreIiIBpOQtIhJASt4iIgGk5C0iEkBK3iIiAaTkLSISQEreIiIBpOQtIhJASt4iIgGk5C0iEkBK3iIiAaTkLSISQEreIiIBpORdgr74fAHn9TybXuecyUsvjM9x3DnH2AfG0OucM+nXpzdrv1tTYNv/PPYI/fr05o6RIzLLZs6YxqTXJkZ2MBJ4Qy/pyvK3b2fFO3dww6VdAWjeuA7zJ/4fS6bcxsJJI2hzYv0820dFGYsn/5t3n7w2s+zu63uy9M2RLJlyGzOfHcqR8VUA6NDiWJa+OZKFrw/n2HpHAFClYjlmPDM0cgMsZZS8S0haWhoP3H8vzz7/IlNnzOKD2e/z44YNB9RZ+PkCNm/ayMw5c7l79H2MuXd0vm0TEhJY+c3XvDN1Julpafywfh2JiYnMmDaV/hdfWvyDlMBo2vBIBvc9lc6XPUK7AQ9y7mnNaHh0PPfffAH3j59D+4vHct9z73P/zRfk2ccNl57Oup+3HlD2n4mf0G7Ag7S/eCxzPv+WkUPOBeCmy7pxyfAXufvpmQy5qDMAI4ecw8MvfxixMZY2St4l5NvVq6hXrz5169UjtkwZzunRk3mffXJAnc8+/YTe512AmdG8RUsSEvaxffu2PNtGRRkpKSk450hMSiImJoYJL7/IpYMuIzY2toRGKkHQ5JjaLF29kf2JKaSlpfP5ig2cf3oLnIPKFeIAb2b8+/a9ubavU7Mq53Q6kVemLjqgPOHPxMyfy5cri3MOgJTUNMqVjaV8uVhSUtM4pu4RHFWzKgtXHDiBkbzFlHQAh6ttW7dS+8jama9r1qrF6lWrDqyzbSu1av9dp1at2mzbujXPthUqVKT7mWcx4MILaNe+AxUrVWLNt99y7fU3RH5AEmhrfvwfo2/oTfUqFdiflMw5nU7kq+82M/zRd5j5zFAe/FcfoqKM0y9/LNf2jwy/kDuenEbF8nE5jo0e2puBvdqx94/9nDPkKa/+y3N55s5L2J+UwpV3vsqDt/Thnmffj+gYSxsl7xLicDnKzCxbpdzr5Nd28JVXM/jKqwEYffcdXH/jMN57520WL1rIcY2PZ8i11xdB9FLarPt5K49N+Ij3n7uBP/cnsWr9b6SmpjHkos6MeOw9pn3yDReeeTLPjRpIz2vHHdD23M7N2LYrga/X/kLn1sfl6Hv0MzMZ/cxMbr3iLK4dcBpjnp/NqvW/0eWf3h+Cjq0a8vv2vRjGa2MHk5Kaxm2PT2XbroRiGXtQadmkhNSqVZstv2/JfL1t61Zq1qx5QJ2atWqzdcvfdbZu3UJ8zZohtV279jsA6tdvwMwZ03jk8SfZsOEHNm3aGIHRSGkwcdpiTr30Ic688gl27/2TDZu3M7DXKUz75BsA3v3o61xPWHZoeSy9upzE97Pu4dWxg+natjEvj/lHjnpvzVnGBWe0zFF+21Xn8OD4Odxxzbnc9/xsJs9exvWXdC3i0ZU+St4l5MRmJ7F580Z+/fUXUpKT+WD2LLqc3u2AOl1P78bMGdNwzrFq5TdUrFiJ+PiaIbV95uknuf6GYaSmppKelgZAlEWRuD8RkdzEV6sIQL3a1Ti/Wwve+mA5v2/fmzmb7tquMRs2b8/R7u6nZ9DonLto0nMU/7jtFeYtW88Vd74KQMOj4zPr9ezSnPUbDzyhOaj3KXzw+Rr2JOynfFwZ0tMd6emO8nE6R1MQLZuUkJiYGEbecTfXDbmK9PQ0LuhzIY0aHcdbb04GoP+AS+h8WhcWLphPr3PPJC6uHPeOeSDfthk+/eRjmjU7iZo1awHQvOXJXHhBbxo3bszxTZoU/2AlECY/ehXVq1YgJTWNm8e+xZ6E/Qy97w0eGd6PmJgokpJSuWGM9/t5ZHwVnr37Uvrc+Fy+fY4Zdj7H1a9Jerpj8++7GHb/lMxj5eJiGdT7FHpd7y3DPPX6p0x+9CqSU1L558gJERtnaWEul3XVopaYmssircghoFpbncyVQ9f+r8dZXscKtWxiZlFmVrnwIYmIyMEIOXmb2RtmVtnMKgDfAevMbHjkQhMRkbyEM/Nu6pzbB1wAzAaOBi7Lq7KZDTGz5Wa2PLdbv0VEpPDCOWEZa2axeMl7nHMuxczyXMt2zo0HxoPWvEVEilo4M+//AhuBCsACM6sP7ItEUPK3xMRErvjnINLS0pgxbSq9zz2L3ueexYxpUzPrjLj1X7p+WyImrmwsc1+8iago44/lT7Fkym0smXIbbz9xTWad+kfVYMGrt7J6+t28NnYwsTHRmcceG9GPb6ePYumbI2nZpC4AsTHRfPTSzURH62rlwgr5X84595Rzro5zrofzbAJOj2BsAkx7713O6H4mfyQk8Pxz43h98ltMmvI2zz83jn17vX0m+g+4hAkvvVjCkUpp9c/zOzD9k5Wkpzv2J6XQ/uKxtL94LBfd/N/MOvffdD5PT/qMk86/l90J+7m8TwcAzu7UlIZHx9Ps/Hu4Ycxknrr9YsDb2+SzL9dx0VmtSmRMpUE4Jyxvyf4A/mlmLSMXnsyeNZOu3c5g0RcLad+hI1WqVqVylSq079CRLxZ+DkCr1m1YsmQRqampJRytlEYX92jDzHmr8q3TpW1j3vv4awAmzfyS3l1bANCrS3PeeH8pAEtXb6RKpXLUPsK7UG3mvFUM6NE2gpGXbuF8ZmkDXAvU8R9DgK7AC2Y2Ip92Ukgpycn8+ssv1KlTl23btlL7gE2qarFtm3e3WlRUFEcfXZ/1674vqVCllIqNiaZBnSPY/PsuAOLKxLBw0gjmT/w/endtDkCNqhXYm7CftLR0AH7bupujanr7dh9Vsyq/btmd2d9vW/dwVM2qAKzZ8D9an3h0MY6mdAnnhGUNoJVz7g8AMxsFvAOcBqwAHi768A5vu/fsplLlSgDkejNVlo2sqlevzrZt22h6YnFFJ4eDI6pVZG/CX5mvG/e4m9+376VBnRp8MH4Y32743wHbvmbI+HXNvtead8w7mJ7uSElJo2L5svzxV1JE4i/Nwpl5Hw0kZ3mdAtR3zu0H9C8fAXFl40hO8v7Ja9WqzZYDNqnaSs34vzejSkpKJi4u53acIgdjf2IycWX/3mckYz/vjb/tZMHyH2jZpC47dv9BlUrlMk8+1qlVLbPeb1v3ULd2tcz2dWpVPWBP8DKxMSQmpxTHUEqdcJL3G8ASMxvlz7q/ACZnuWlHiljlKlVIS08jKSmJUzt2YvGihezbu5d9e/eyeNFCTu3YKbPupk0badioUQlGK6XRnoT9REdFUbZMDFUrlaNMrPdhvUbVCnRoeSxrf/ImFAuWr6dv95MBGNj7FN7318hnzV/Npb3aAdDupAbs+2M/W3Z4F6lVr1KBHbv/IDU1vbiHVSqEvGzinLvPzOYAHQEDrnXOLfcPD4xEcAIdTu3I11+toH2HUxly7fVcOqAfANdcN5QqVasCsHPHDsqWLUt8fM18ehIpnI+XrOXUkxuyPzGZp++4hHSXTpRF8egrH/G9n7zveHI6r40dzKjre7Fy3S9MmLYYgA8WruHsTieyZsYo/kpM4ZrRr2f226XtcXz4xZpc31MKFtbGVGYWDdQiS9J3zm0uqJ1u0im8tWu/47WJr/DA2EfyrPPaxAlUqFiBvhdeVIyRlQ7amKpgLY6vy7BB3bjyrleLtN8pj17FXU/P4IdN24q039Ikv42pQp55m9mNwChgK5CGN/t2QPODDVDydsIJTWnb7hTS0tKIjo7OtU6lypXo1fv8Yo5MDhcr1/3K/OXriYoy0tOLZh4WGxPNjHmrlLgPQsgzbzPbAJzinNsZ7pto5i2HKs285VBWVFvC/gLk/tXRIiJSrMK5zvsnYJ6ZzSLLpYHOuceLPCoREclXOMl7s/8o4z9ERKSEhHOp4D2RDEREREJXYPI2syecczeb2UzIeeLROXdeRCITEZE8hTLzfs1/fjSSgYiISOgKTN7OuRX+8/zIhyMiIqEIZdlkNbksl2RwzukmHRGRYhbKskkv/3mo/5yxjDIQ+CtndRERibRQlk02AZhZR+dcxyyHbjOzL4B7IxWciIjkLpw7LCuYWeYepGZ2Kt6XEYuISDEL5yadK4GXzayK/3oPcEWRRyQiIgUK5yadFUALM6uMt6GV9jkRESkh4WwJWxa4EGgAxJj/5XTOOa15i4gUs3CWTabj7Sq4An1npYhIiQonedd1zp0TsUhERCRk4VxtssjMTopYJCIiErJwZt6dgMvN7Ge8ZRMDnO6wFBEpfuEk73MjFoWIiIQllL1NKjvn9gEJxRCPiIiEIJSZ9xt4+5uswNugKusXYjrg2AjEJSIi+QgleY/1n09wziVGMhgREQlNKFebPOk/L4pkICIiErpQZt4pZvYKUNfMnsp+0Dk3rOjDEhGR/IS6n3d3oBveureIiJSwUPbz3gFMMbO1zrmVedUzs5HOuQeLNDoREclVyHdY5pe4fRcdZCwiIhKicG6PL4gVXEVERIpCUSbvPL+kWEREipZm3iIiAVSUyfvtIuxLRETyEXLyNrO6ZjbVzLab2VYze9fM6mYcd849EJkQRUQku3Bm3q8AM4AjgTrATL9MRESKWTjJO94594pzLtV/TADiIxSXiIjkI5zkvcPMBplZtP8YBOyMVGAiIpK3cJL3FUB/YAvwO9DPLxMRkWIW8jfpOOc2A+dFMBYREQlRKN+kc3c+h51z7r4ijEdEREIQysz7z1zKKgBXAjUAJW8RkWIWyq6Cj2X8bGaVgJuAwcAU4LG82omISOSEtOZtZtWBW4CBwESglXNudyQDExGRvJlz+e8nZWaPAH2B8cAzzrk/iiMwyZuZDXHOjS/pOESy0+9m8QkleacDSUAqB+4caHgnLCtHLjzJjZktd861Kek4RLLT72bxCWXNuyg3rxIRkSKgxCwiEkBK3sGkNUU5VOl3s5gUuOYtIiKHHs28RUQCSMlbRCSAlLwjzMxqm9kUM/vRzL4zs9lm1jjMPtqY2VN5HNtoZkfkUt7EzBabWZKZ3Zrt2E1m9q2ZrTGzm8MakIgcEpS8I8jMDJgKzHPONXTONQVuB2qF049zbrlzbliYb78LGAY8mi2mZsDVQDugBdDLzI4Ls28JCDNzZpZ1i4tbzWx0IfqJN7MvzexrM+vsT0KqhtG+gZl96/+c52REQqfkHVmnAynOueczCpxz3wALzewRf/a72swGAJjZm2bWI6OumU0wswvNrKuZve+X1TCzuf5/ov/i3SyVg3Num3NuGZCS7dAJwBLn3F/OuVRgPtCnCMcsh5YkoG9un87CdAbwvXPuZOfc5865Hs65PYXpqJCTEclGyTuymgErcinvC7TEm/l2Bx4xsyPxNvvKSORl8P7DzM7WdhSw0Dl3Mt53ih4dZkzfAqf5fwTKAz2AemH2IcGRinf53r+yHzCz+mb2iZmt8p9z/V0ys5bAw0APM/vGzMplLNf5M+q1ZvaCvww318zK+e1am9lKM1sMDM3SX9bJyGgze9nM5pnZT2Y2LEu9u8zsezP7yMwmZyz/mdkwfwlylZlNKbp/qmBR8i4ZnYDJzrk059xWvNlvW2AO0M3MygLnAgucc/uztT0NeB3AOTcLCGuDMOfcWuAh4CPgA2Al3n9wKb2eAQaaWZVs5eOAV51zzYFJQK5LGf6nxbuBN51zLXP5nTwOb9+jE4E9wIV++SvAMOdchwLiawKcjbeUN8rMYs2sjd/PyXiTnay33N8GnOzHfW0BfZdaSt6RtQZonUt5XksdicA8vF/kAXgz8Vyr5ujQbKg/K/rGzI7KLyjn3EvOuVbOudPw1sZ/yK++BJtzbh/wKt45kKw6AG/4P7+GN6kojJ/9BA/eJ80G/h+Kqs65+Vn6z8ss51ySc24HsA3vnFAnYLpzbr9zLgGYmaX+KmCS/z26h+3EQ8k7sj4FyprZ1RkFZtYWb7Y8wP8i53i82fRSv8oUvP3SOwMf5tLnAryteTGzc4FqAM65Z/xZUUvn3P/yC8rMavrPR+PNaiYXfogSEE/gfYFKhXzqFPaOvaQsP6fh7ZlkYfSXV/u89MT7NNEaWGFmIX+dY2mi5B1Bzrt9tQ9wpn+p4BpgNN5sZxXeksWnwAjn3Ba/2Vy8ZP6xcy45l27vwVuz/go4C9ic23v7lyj+ircP+51m9quZZewA+a6ZfYc3mxmqvdlLP+fcLuAtvASeYRFwsf/zQGBhEb7fHmCvmWXM5geG2cVCoLeZxZlZRbyEjZlFAfWcc58BI4CqQMUiCTpgDsu/WMXJnwX3z+XQcP+RvX4K3tfLZS2bh7ecgnNuJ17SzpDjRJRfbwtQN49jnQuOXEqhx4AbsrweBrxsZsOB7Xif+IrSYL//v8j9U2SenHPLzGwG3gRnE7Ac2AtEA6/7yzIG/KewV70EnfY2EZFDkplVdM794V8VtQAY4pz7qqTjOlRo5i0ih6rxZtYUiAMmKnEfSDNvEclkZncAF2Urfts5d39JxCN5U/IWEQkgXW0iIhJASt4iIgGk5C0iEkBK3iIiAfT/SSe8EHON6AAAAAAASUVORK5CYII=\n",
      "text/plain": [
       "<Figure size 432x288 with 1 Axes>"
      ]
     },
     "metadata": {
      "needs_background": "light"
     },
     "output_type": "display_data"
    },
    {
     "data": {
      "text/plain": [
       "<Figure size 432x288 with 0 Axes>"
      ]
     },
     "metadata": {},
     "output_type": "display_data"
    }
   ],
   "source": [
    "import numpy as np\n",
    "import matplotlib.pyplot as plt\n",
    "from sklearn.metrics import ConfusionMatrixDisplay\n",
    "import seaborn as sn\n",
    "import pandas as pd\n",
    "import matplotlib.pyplot as plt\n",
    "l =[]\n",
    "overlapped = np.array([[0,0],[0,0]])\n",
    "class_names=['Covid-19','No_findings']\n",
    "f = 0\n",
    "for train_ix, test_ix in cv.split(features):\n",
    "    # get data\n",
    "    train_X, test_X = features[train_ix], features[test_ix]\n",
    "    train_y, test_y = labels[train_ix], labels[test_ix]\n",
    "    train_X,test_X = select_features(train_X,train_y,test_X,67)\n",
    "    # fit model\n",
    "    model = XGBClassifier()\n",
    "    model.fit(train_X, train_y)\n",
    "    # evaluate model\n",
    "    yhat = model.predict(test_X)\n",
    "    acc = accuracy_score(test_y, yhat)\n",
    "    f = f+1\n",
    "    Y_test = test_y\n",
    "    Y_pred = yhat\n",
    "    l = confusion_matrix(Y_test, Y_pred)\n",
    "    for i in range(len(l[0])):\n",
    "        for j in range(len(l[0])):\n",
    "            overlapped[i][j] = l[i][j] + overlapped[i][j]\n",
    "        \n",
    "    group_count = ['{0:0.0f}'.format(value) for value in\n",
    "                l.flatten()]\n",
    "    group_counts=[]\n",
    "    group_percentages = []\n",
    "    for i in group_count:\n",
    "        group_counts.append(f'({i})')\n",
    "    for i in range(0,2):\n",
    "        for j in range(0,2):\n",
    "            group_percentages.append(l[i,j]/np.sum(l[:,j]))\n",
    "            \n",
    "    group_percentages = ['{0:.2%}'.format(value) for value in\n",
    "                group_percentages]        \n",
    "    d = [f'{v2}\\n{v3}' for  v2, v3 in\n",
    "              zip(group_percentages,group_counts)]                     \n",
    "\n",
    "    d = np.asarray(d).reshape(2,2)                    \n",
    "\n",
    "    df_cm = pd.DataFrame(l, index = [i for i in class_names],\n",
    "                      columns = [i for i in class_names])\n",
    "    plt.figure(figsize = (6,4))\n",
    "    ax = plt.axes()\n",
    "    sns = sn.heatmap(df_cm, annot=d,ax = ax,cbar=False,fmt=\"\",cmap=\"Blues\")\n",
    "    ax.set_title(f'Fold {f}',fontsize = 17)\n",
    "    plt.show()\n",
    "    figure = sns.get_figure()    \n",
    "    figure.savefig(f'Fold{f}.svg')\n",
    "    plt.clf()\n",
    "\n",
    "group_count = ['{0:0.0f}'.format(value) for value in\n",
    "            overlapped.flatten()]\n",
    "group_counts=[]\n",
    "group_percentages = []\n",
    "for i in group_count:\n",
    "    group_counts.append(f'({i})')\n",
    "for i in range(0,2):\n",
    "    for j in range(0,2):\n",
    "        group_percentages.append(overlapped[i,j]/np.sum(overlapped[:,j]))\n",
    "group_percentages = ['{0:.2%}'.format(value) for value in\n",
    "            group_percentages]        \n",
    "    \n",
    "d = [f'{v2}\\n{v3}' for  v2, v3 in\n",
    "          zip(group_percentages,group_counts)]                     \n",
    "\n",
    "d = np.asarray(d).reshape(2,2)                    \n",
    "\n",
    "df_cm = pd.DataFrame(overlapped, index = [i for i in class_names],\n",
    "                  columns = [i for i in class_names])\n",
    "plt.figure(figsize = (6,4))\n",
    "ax = plt.axes()\n",
    "sns = sn.heatmap(df_cm, annot=d,ax = ax,cbar=False,fmt=\"\",cmap=\"Blues\")\n",
    "ax.set_title('Overlapped',fontsize = 17)\n",
    "plt.show()\n",
    "figure = sns.get_figure()    \n",
    "figure.savefig(f'Overlapped.svg')\n",
    "plt.clf()  \n"
   ]
  }
 ],
 "metadata": {
  "kernelspec": {
   "display_name": "Python 3",
   "language": "python",
   "name": "python3"
  },
  "language_info": {
   "codemirror_mode": {
    "name": "ipython",
    "version": 3
   },
   "file_extension": ".py",
   "mimetype": "text/x-python",
   "name": "python",
   "nbconvert_exporter": "python",
   "pygments_lexer": "ipython3",
   "version": "3.8.5"
  }
 },
 "nbformat": 4,
 "nbformat_minor": 4
}
